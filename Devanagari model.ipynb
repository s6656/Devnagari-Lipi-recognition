{
 "cells": [
  {
   "cell_type": "code",
   "execution_count": 1,
   "metadata": {},
   "outputs": [
    {
     "name": "stderr",
     "output_type": "stream",
     "text": [
      "Using TensorFlow backend.\n"
     ]
    }
   ],
   "source": [
    "import numpy as np\n",
    "import pandas as pd\n",
    "from keras import layers\n",
    "from keras.layers import Input,Dense,Activation,ZeroPadding2D,BatchNormalization,Flatten,Conv2D\n",
    "from keras.layers import AveragePooling2D,MaxPooling2D,Dropout,GlobalMaxPooling2D,GlobalAveragePooling2D\n",
    "from keras.utils import np_utils,print_summary\n",
    "from keras.models import Sequential\n",
    "from keras.callbacks import ModelCheckpoint\n",
    "import keras.backend as K\n",
    "import tensorflow as tf"
   ]
  },
  {
   "cell_type": "code",
   "execution_count": 2,
   "metadata": {},
   "outputs": [],
   "source": [
    "data=pd.read_csv(\"C:\\\\Users\\\\Saatwik Bisaria\\\\Downloads\\\\data.csv\")\n",
    "dataset=np.array(data)\n",
    "np.random.shuffle(dataset)\n",
    "x=dataset\n",
    "y=dataset\n",
    "x=x[:,0:1024]\n",
    "y=y[:,1024]\n",
    "\n",
    "xtrain=x[0:50000,:]\n",
    "xtrain=xtrain/255.\n",
    "xtest=x[50000:52000,:]\n",
    "xtest=xtest/255.\n",
    "\n",
    "\n",
    "y=y.reshape(y.shape[0],1)\n",
    "ytrain=y[0:50000,:]\n",
    "ytrain=ytrain.T\n",
    "ytest=y[50000:52000,:]\n",
    "ytest=ytest.T"
   ]
  },
  {
   "cell_type": "code",
   "execution_count": 3,
   "metadata": {},
   "outputs": [
    {
     "name": "stdout",
     "output_type": "stream",
     "text": [
      "number of training examples= 50000\n",
      "number of test examples= 2000\n",
      "xtrain shape= (50000, 1024)\n",
      "ytain shape= (1, 50000)\n",
      "xtest shape= (2000, 1024)\n",
      "ytest shape= (1, 2000)\n"
     ]
    }
   ],
   "source": [
    "print(\"number of training examples=\",xtrain.shape[0])\n",
    "print(\"number of test examples=\",xtest.shape[0])\n",
    "print(\"xtrain shape=\",xtrain.shape)\n",
    "print(\"ytain shape=\",ytrain.shape)\n",
    "print(\"xtest shape=\",xtest.shape)\n",
    "print(\"ytest shape=\",ytest.shape)"
   ]
  },
  {
   "cell_type": "code",
   "execution_count": 4,
   "metadata": {},
   "outputs": [],
   "source": [
    "imagex=32\n",
    "imagey=32\n",
    "\n",
    "trainy=np_utils.to_categorical(ytrain)\n",
    "testy=np_utils.to_categorical(ytest)\n",
    "trainy=trainy.reshape(trainy.shape[1],trainy.shape[2])\n",
    "testy=testy.reshape(testy.shape[1],testy.shape[2])\n",
    "\n",
    "xtrain=xtrain.reshape(xtrain.shape[0],imagex,imagey,1)\n",
    "xtest=xtest.reshape(xtest.shape[0],imagex,imagey,1)"
   ]
  },
  {
   "cell_type": "code",
   "execution_count": 5,
   "metadata": {},
   "outputs": [
    {
     "name": "stdout",
     "output_type": "stream",
     "text": [
      "xtrain shape= (50000, 32, 32, 1)\n",
      "ytain shape= (50000, 37)\n"
     ]
    }
   ],
   "source": [
    "print(\"xtrain shape=\",xtrain.shape)\n",
    "print(\"ytain shape=\",trainy.shape)"
   ]
  },
  {
   "cell_type": "code",
   "execution_count": 9,
   "metadata": {},
   "outputs": [],
   "source": [
    "def keras_model():\n",
    "    no_of_classes=37\n",
    "    model=Sequential()\n",
    "    model.add(Conv2D(filters=32,kernel_size=(5,5),input_shape=(imagex,imagey,1),activation='sigmoid'))\n",
    "    model.add(MaxPooling2D(pool_size=(2,2),strides=(2,2),padding='same'))\n",
    "    model.add(Conv2D(64,(5,5),activation='sigmoid'))\n",
    "    model.add(MaxPooling2D(pool_size=(5,5),strides=(5,5),padding='same'))\n",
    "    model.add(Flatten())\n",
    "    model.add(Dense(no_of_classes,activation='softmax'))\n",
    "    model.compile(loss='categorical_crossentropy', optimizer='rmsprop', metrics=['accuracy'])\n",
    "    filepath=\"devanagari_model.h5\"\n",
    "    checkpoint1=ModelCheckpoint(filepath,monitor='val_acc',verbose=1,save_best_only=True,mode='max')\n",
    "    callbackslist=[checkpoint1]\n",
    "    \n",
    "    return model,callbackslist"
   ]
  },
  {
   "cell_type": "code",
   "execution_count": 10,
   "metadata": {},
   "outputs": [
    {
     "name": "stdout",
     "output_type": "stream",
     "text": [
      "\n",
      "Epoch 00001: val_acc improved from -inf to 0.72950, saving model to devanagari2.h5\n",
      "\n",
      "Epoch 00002: val_acc improved from 0.72950 to 0.85950, saving model to devanagari2.h5\n",
      "\n",
      "Epoch 00003: val_acc improved from 0.85950 to 0.90400, saving model to devanagari2.h5\n",
      "\n",
      "Epoch 00004: val_acc improved from 0.90400 to 0.92850, saving model to devanagari2.h5\n",
      "\n",
      "Epoch 00005: val_acc improved from 0.92850 to 0.94200, saving model to devanagari2.h5\n",
      "\n",
      "Epoch 00006: val_acc improved from 0.94200 to 0.94600, saving model to devanagari2.h5\n",
      "\n",
      "Epoch 00007: val_acc improved from 0.94600 to 0.94950, saving model to devanagari2.h5\n",
      "\n",
      "Epoch 00008: val_acc improved from 0.94950 to 0.95800, saving model to devanagari2.h5\n",
      "\n",
      "Epoch 00009: val_acc improved from 0.95800 to 0.96400, saving model to devanagari2.h5\n",
      "\n",
      "Epoch 00010: val_acc improved from 0.96400 to 0.96600, saving model to devanagari2.h5\n",
      "CNN error= 3.4000000000000057\n",
      "_________________________________________________________________\n",
      "Layer (type)                 Output Shape              Param #   \n",
      "=================================================================\n",
      "conv2d_3 (Conv2D)            (None, 28, 28, 32)        832       \n",
      "_________________________________________________________________\n",
      "max_pooling2d_3 (MaxPooling2 (None, 14, 14, 32)        0         \n",
      "_________________________________________________________________\n",
      "conv2d_4 (Conv2D)            (None, 10, 10, 64)        51264     \n",
      "_________________________________________________________________\n",
      "max_pooling2d_4 (MaxPooling2 (None, 2, 2, 64)          0         \n",
      "_________________________________________________________________\n",
      "flatten_2 (Flatten)          (None, 256)               0         \n",
      "_________________________________________________________________\n",
      "dense_2 (Dense)              (None, 37)                9509      \n",
      "=================================================================\n",
      "Total params: 61,605\n",
      "Trainable params: 61,605\n",
      "Non-trainable params: 0\n",
      "_________________________________________________________________\n"
     ]
    }
   ],
   "source": [
    "model,callbacks=keras_model()\n",
    "model_fit = model.fit(xtrain, trainy, batch_size=64, epochs=10, verbose=0,\n",
    "                    validation_data=(xtest,testy),                \n",
    "                    callbacks=callbacks)\n",
    "scores=model.evaluate(xtest,testy,verbose=0)\n",
    "print(\"CNN error=\",100-scores[1]*100)\n",
    "print_summary(model)\n",
    "model.save(\"devanagari_model.h5\")"
   ]
  }
 ],
 "metadata": {
  "kernelspec": {
   "display_name": "Python 3",
   "language": "python",
   "name": "python3"
  },
  "language_info": {
   "codemirror_mode": {
    "name": "ipython",
    "version": 3
   },
   "file_extension": ".py",
   "mimetype": "text/x-python",
   "name": "python",
   "nbconvert_exporter": "python",
   "pygments_lexer": "ipython3",
   "version": "3.7.3"
  }
 },
 "nbformat": 4,
 "nbformat_minor": 2
}
